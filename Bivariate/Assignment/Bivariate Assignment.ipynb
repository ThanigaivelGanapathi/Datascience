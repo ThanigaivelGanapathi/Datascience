{
 "cells": [
  {
   "cell_type": "code",
   "execution_count": 1,
   "id": "8048f8fc-f716-4883-ad58-21ed1cb7d94b",
   "metadata": {},
   "outputs": [],
   "source": [
    "import pandas as pd\n",
    "import warnings\n",
    "from matplotlib import pyplot\n",
    "from scipy.stats import norm"
   ]
  },
  {
   "cell_type": "code",
   "execution_count": 2,
   "id": "8f642dfb-f9bb-4e74-9ba4-165fcdc04801",
   "metadata": {},
   "outputs": [
    {
     "data": {
      "text/html": [
       "<div>\n",
       "<style scoped>\n",
       "    .dataframe tbody tr th:only-of-type {\n",
       "        vertical-align: middle;\n",
       "    }\n",
       "\n",
       "    .dataframe tbody tr th {\n",
       "        vertical-align: top;\n",
       "    }\n",
       "\n",
       "    .dataframe thead th {\n",
       "        text-align: right;\n",
       "    }\n",
       "</style>\n",
       "<table border=\"1\" class=\"dataframe\">\n",
       "  <thead>\n",
       "    <tr style=\"text-align: right;\">\n",
       "      <th></th>\n",
       "      <th>sl_no</th>\n",
       "      <th>gender</th>\n",
       "      <th>ssc_p</th>\n",
       "      <th>ssc_b</th>\n",
       "      <th>hsc_p</th>\n",
       "      <th>hsc_b</th>\n",
       "      <th>hsc_s</th>\n",
       "      <th>degree_p</th>\n",
       "      <th>degree_t</th>\n",
       "      <th>workex</th>\n",
       "      <th>etest_p</th>\n",
       "      <th>specialisation</th>\n",
       "      <th>mba_p</th>\n",
       "      <th>status</th>\n",
       "      <th>salary</th>\n",
       "    </tr>\n",
       "  </thead>\n",
       "  <tbody>\n",
       "    <tr>\n",
       "      <th>0</th>\n",
       "      <td>1</td>\n",
       "      <td>M</td>\n",
       "      <td>67.00</td>\n",
       "      <td>Others</td>\n",
       "      <td>91.00</td>\n",
       "      <td>Others</td>\n",
       "      <td>Commerce</td>\n",
       "      <td>58.00</td>\n",
       "      <td>Sci&amp;Tech</td>\n",
       "      <td>No</td>\n",
       "      <td>55.0</td>\n",
       "      <td>Mkt&amp;HR</td>\n",
       "      <td>58.80</td>\n",
       "      <td>Placed</td>\n",
       "      <td>270000.0</td>\n",
       "    </tr>\n",
       "    <tr>\n",
       "      <th>1</th>\n",
       "      <td>2</td>\n",
       "      <td>M</td>\n",
       "      <td>79.33</td>\n",
       "      <td>Central</td>\n",
       "      <td>78.33</td>\n",
       "      <td>Others</td>\n",
       "      <td>Science</td>\n",
       "      <td>77.48</td>\n",
       "      <td>Sci&amp;Tech</td>\n",
       "      <td>Yes</td>\n",
       "      <td>86.5</td>\n",
       "      <td>Mkt&amp;Fin</td>\n",
       "      <td>66.28</td>\n",
       "      <td>Placed</td>\n",
       "      <td>200000.0</td>\n",
       "    </tr>\n",
       "    <tr>\n",
       "      <th>2</th>\n",
       "      <td>3</td>\n",
       "      <td>M</td>\n",
       "      <td>65.00</td>\n",
       "      <td>Central</td>\n",
       "      <td>68.00</td>\n",
       "      <td>Central</td>\n",
       "      <td>Arts</td>\n",
       "      <td>64.00</td>\n",
       "      <td>Comm&amp;Mgmt</td>\n",
       "      <td>No</td>\n",
       "      <td>75.0</td>\n",
       "      <td>Mkt&amp;Fin</td>\n",
       "      <td>57.80</td>\n",
       "      <td>Placed</td>\n",
       "      <td>250000.0</td>\n",
       "    </tr>\n",
       "    <tr>\n",
       "      <th>3</th>\n",
       "      <td>4</td>\n",
       "      <td>M</td>\n",
       "      <td>56.00</td>\n",
       "      <td>Central</td>\n",
       "      <td>52.00</td>\n",
       "      <td>Central</td>\n",
       "      <td>Science</td>\n",
       "      <td>52.00</td>\n",
       "      <td>Sci&amp;Tech</td>\n",
       "      <td>No</td>\n",
       "      <td>66.0</td>\n",
       "      <td>Mkt&amp;HR</td>\n",
       "      <td>59.43</td>\n",
       "      <td>Not Placed</td>\n",
       "      <td>NaN</td>\n",
       "    </tr>\n",
       "    <tr>\n",
       "      <th>4</th>\n",
       "      <td>5</td>\n",
       "      <td>M</td>\n",
       "      <td>85.80</td>\n",
       "      <td>Central</td>\n",
       "      <td>73.60</td>\n",
       "      <td>Central</td>\n",
       "      <td>Commerce</td>\n",
       "      <td>73.30</td>\n",
       "      <td>Comm&amp;Mgmt</td>\n",
       "      <td>No</td>\n",
       "      <td>96.8</td>\n",
       "      <td>Mkt&amp;Fin</td>\n",
       "      <td>55.50</td>\n",
       "      <td>Placed</td>\n",
       "      <td>425000.0</td>\n",
       "    </tr>\n",
       "    <tr>\n",
       "      <th>...</th>\n",
       "      <td>...</td>\n",
       "      <td>...</td>\n",
       "      <td>...</td>\n",
       "      <td>...</td>\n",
       "      <td>...</td>\n",
       "      <td>...</td>\n",
       "      <td>...</td>\n",
       "      <td>...</td>\n",
       "      <td>...</td>\n",
       "      <td>...</td>\n",
       "      <td>...</td>\n",
       "      <td>...</td>\n",
       "      <td>...</td>\n",
       "      <td>...</td>\n",
       "      <td>...</td>\n",
       "    </tr>\n",
       "    <tr>\n",
       "      <th>210</th>\n",
       "      <td>211</td>\n",
       "      <td>M</td>\n",
       "      <td>80.60</td>\n",
       "      <td>Others</td>\n",
       "      <td>82.00</td>\n",
       "      <td>Others</td>\n",
       "      <td>Commerce</td>\n",
       "      <td>77.60</td>\n",
       "      <td>Comm&amp;Mgmt</td>\n",
       "      <td>No</td>\n",
       "      <td>91.0</td>\n",
       "      <td>Mkt&amp;Fin</td>\n",
       "      <td>74.49</td>\n",
       "      <td>Placed</td>\n",
       "      <td>400000.0</td>\n",
       "    </tr>\n",
       "    <tr>\n",
       "      <th>211</th>\n",
       "      <td>212</td>\n",
       "      <td>M</td>\n",
       "      <td>58.00</td>\n",
       "      <td>Others</td>\n",
       "      <td>60.00</td>\n",
       "      <td>Others</td>\n",
       "      <td>Science</td>\n",
       "      <td>72.00</td>\n",
       "      <td>Sci&amp;Tech</td>\n",
       "      <td>No</td>\n",
       "      <td>74.0</td>\n",
       "      <td>Mkt&amp;Fin</td>\n",
       "      <td>53.62</td>\n",
       "      <td>Placed</td>\n",
       "      <td>275000.0</td>\n",
       "    </tr>\n",
       "    <tr>\n",
       "      <th>212</th>\n",
       "      <td>213</td>\n",
       "      <td>M</td>\n",
       "      <td>67.00</td>\n",
       "      <td>Others</td>\n",
       "      <td>67.00</td>\n",
       "      <td>Others</td>\n",
       "      <td>Commerce</td>\n",
       "      <td>73.00</td>\n",
       "      <td>Comm&amp;Mgmt</td>\n",
       "      <td>Yes</td>\n",
       "      <td>59.0</td>\n",
       "      <td>Mkt&amp;Fin</td>\n",
       "      <td>69.72</td>\n",
       "      <td>Placed</td>\n",
       "      <td>295000.0</td>\n",
       "    </tr>\n",
       "    <tr>\n",
       "      <th>213</th>\n",
       "      <td>214</td>\n",
       "      <td>F</td>\n",
       "      <td>74.00</td>\n",
       "      <td>Others</td>\n",
       "      <td>66.00</td>\n",
       "      <td>Others</td>\n",
       "      <td>Commerce</td>\n",
       "      <td>58.00</td>\n",
       "      <td>Comm&amp;Mgmt</td>\n",
       "      <td>No</td>\n",
       "      <td>70.0</td>\n",
       "      <td>Mkt&amp;HR</td>\n",
       "      <td>60.23</td>\n",
       "      <td>Placed</td>\n",
       "      <td>204000.0</td>\n",
       "    </tr>\n",
       "    <tr>\n",
       "      <th>214</th>\n",
       "      <td>215</td>\n",
       "      <td>M</td>\n",
       "      <td>62.00</td>\n",
       "      <td>Central</td>\n",
       "      <td>58.00</td>\n",
       "      <td>Others</td>\n",
       "      <td>Science</td>\n",
       "      <td>53.00</td>\n",
       "      <td>Comm&amp;Mgmt</td>\n",
       "      <td>No</td>\n",
       "      <td>89.0</td>\n",
       "      <td>Mkt&amp;HR</td>\n",
       "      <td>60.22</td>\n",
       "      <td>Not Placed</td>\n",
       "      <td>NaN</td>\n",
       "    </tr>\n",
       "  </tbody>\n",
       "</table>\n",
       "<p>215 rows × 15 columns</p>\n",
       "</div>"
      ],
      "text/plain": [
       "     sl_no gender  ssc_p    ssc_b  hsc_p    hsc_b     hsc_s  degree_p  \\\n",
       "0        1      M  67.00   Others  91.00   Others  Commerce     58.00   \n",
       "1        2      M  79.33  Central  78.33   Others   Science     77.48   \n",
       "2        3      M  65.00  Central  68.00  Central      Arts     64.00   \n",
       "3        4      M  56.00  Central  52.00  Central   Science     52.00   \n",
       "4        5      M  85.80  Central  73.60  Central  Commerce     73.30   \n",
       "..     ...    ...    ...      ...    ...      ...       ...       ...   \n",
       "210    211      M  80.60   Others  82.00   Others  Commerce     77.60   \n",
       "211    212      M  58.00   Others  60.00   Others   Science     72.00   \n",
       "212    213      M  67.00   Others  67.00   Others  Commerce     73.00   \n",
       "213    214      F  74.00   Others  66.00   Others  Commerce     58.00   \n",
       "214    215      M  62.00  Central  58.00   Others   Science     53.00   \n",
       "\n",
       "      degree_t workex  etest_p specialisation  mba_p      status    salary  \n",
       "0     Sci&Tech     No     55.0         Mkt&HR  58.80      Placed  270000.0  \n",
       "1     Sci&Tech    Yes     86.5        Mkt&Fin  66.28      Placed  200000.0  \n",
       "2    Comm&Mgmt     No     75.0        Mkt&Fin  57.80      Placed  250000.0  \n",
       "3     Sci&Tech     No     66.0         Mkt&HR  59.43  Not Placed       NaN  \n",
       "4    Comm&Mgmt     No     96.8        Mkt&Fin  55.50      Placed  425000.0  \n",
       "..         ...    ...      ...            ...    ...         ...       ...  \n",
       "210  Comm&Mgmt     No     91.0        Mkt&Fin  74.49      Placed  400000.0  \n",
       "211   Sci&Tech     No     74.0        Mkt&Fin  53.62      Placed  275000.0  \n",
       "212  Comm&Mgmt    Yes     59.0        Mkt&Fin  69.72      Placed  295000.0  \n",
       "213  Comm&Mgmt     No     70.0         Mkt&HR  60.23      Placed  204000.0  \n",
       "214  Comm&Mgmt     No     89.0         Mkt&HR  60.22  Not Placed       NaN  \n",
       "\n",
       "[215 rows x 15 columns]"
      ]
     },
     "execution_count": 2,
     "metadata": {},
     "output_type": "execute_result"
    }
   ],
   "source": [
    "dataset = pd.read_csv(\"Placement.csv\")\n",
    "dataset"
   ]
  },
  {
   "cell_type": "code",
   "execution_count": 3,
   "id": "c6962a89-fd1d-401b-a66f-5ce864597851",
   "metadata": {},
   "outputs": [
    {
     "data": {
      "text/plain": [
       "sl_no              0\n",
       "gender             0\n",
       "ssc_p              0\n",
       "ssc_b              0\n",
       "hsc_p              0\n",
       "hsc_b              0\n",
       "hsc_s              0\n",
       "degree_p           0\n",
       "degree_t           0\n",
       "workex             0\n",
       "etest_p            0\n",
       "specialisation     0\n",
       "mba_p              0\n",
       "status             0\n",
       "salary            67\n",
       "dtype: int64"
      ]
     },
     "execution_count": 3,
     "metadata": {},
     "output_type": "execute_result"
    }
   ],
   "source": [
    "#Checking the Null Value\n",
    "warnings.filterwarnings(\"ignore\")\n",
    "dataset.isnull().sum()"
   ]
  },
  {
   "cell_type": "markdown",
   "id": "379d80bd-2c3f-43bf-877e-e520093df577",
   "metadata": {},
   "source": [
    "# 1) Replacing Null Value"
   ]
  },
  {
   "cell_type": "code",
   "execution_count": 4,
   "id": "a03f7643-9401-4457-936a-be918e25d5f0",
   "metadata": {},
   "outputs": [
    {
     "data": {
      "text/html": [
       "<div>\n",
       "<style scoped>\n",
       "    .dataframe tbody tr th:only-of-type {\n",
       "        vertical-align: middle;\n",
       "    }\n",
       "\n",
       "    .dataframe tbody tr th {\n",
       "        vertical-align: top;\n",
       "    }\n",
       "\n",
       "    .dataframe thead th {\n",
       "        text-align: right;\n",
       "    }\n",
       "</style>\n",
       "<table border=\"1\" class=\"dataframe\">\n",
       "  <thead>\n",
       "    <tr style=\"text-align: right;\">\n",
       "      <th></th>\n",
       "      <th>sl_no</th>\n",
       "      <th>gender</th>\n",
       "      <th>ssc_p</th>\n",
       "      <th>ssc_b</th>\n",
       "      <th>hsc_p</th>\n",
       "      <th>hsc_b</th>\n",
       "      <th>hsc_s</th>\n",
       "      <th>degree_p</th>\n",
       "      <th>degree_t</th>\n",
       "      <th>workex</th>\n",
       "      <th>etest_p</th>\n",
       "      <th>specialisation</th>\n",
       "      <th>mba_p</th>\n",
       "      <th>status</th>\n",
       "      <th>salary</th>\n",
       "    </tr>\n",
       "  </thead>\n",
       "  <tbody>\n",
       "    <tr>\n",
       "      <th>0</th>\n",
       "      <td>1</td>\n",
       "      <td>M</td>\n",
       "      <td>67.00</td>\n",
       "      <td>Others</td>\n",
       "      <td>91.00</td>\n",
       "      <td>Others</td>\n",
       "      <td>Commerce</td>\n",
       "      <td>58.00</td>\n",
       "      <td>Sci&amp;Tech</td>\n",
       "      <td>No</td>\n",
       "      <td>55.0</td>\n",
       "      <td>Mkt&amp;HR</td>\n",
       "      <td>58.80</td>\n",
       "      <td>Placed</td>\n",
       "      <td>270000.0</td>\n",
       "    </tr>\n",
       "    <tr>\n",
       "      <th>1</th>\n",
       "      <td>2</td>\n",
       "      <td>M</td>\n",
       "      <td>79.33</td>\n",
       "      <td>Central</td>\n",
       "      <td>78.33</td>\n",
       "      <td>Others</td>\n",
       "      <td>Science</td>\n",
       "      <td>77.48</td>\n",
       "      <td>Sci&amp;Tech</td>\n",
       "      <td>Yes</td>\n",
       "      <td>86.5</td>\n",
       "      <td>Mkt&amp;Fin</td>\n",
       "      <td>66.28</td>\n",
       "      <td>Placed</td>\n",
       "      <td>200000.0</td>\n",
       "    </tr>\n",
       "    <tr>\n",
       "      <th>2</th>\n",
       "      <td>3</td>\n",
       "      <td>M</td>\n",
       "      <td>65.00</td>\n",
       "      <td>Central</td>\n",
       "      <td>68.00</td>\n",
       "      <td>Central</td>\n",
       "      <td>Arts</td>\n",
       "      <td>64.00</td>\n",
       "      <td>Comm&amp;Mgmt</td>\n",
       "      <td>No</td>\n",
       "      <td>75.0</td>\n",
       "      <td>Mkt&amp;Fin</td>\n",
       "      <td>57.80</td>\n",
       "      <td>Placed</td>\n",
       "      <td>250000.0</td>\n",
       "    </tr>\n",
       "    <tr>\n",
       "      <th>3</th>\n",
       "      <td>4</td>\n",
       "      <td>M</td>\n",
       "      <td>56.00</td>\n",
       "      <td>Central</td>\n",
       "      <td>52.00</td>\n",
       "      <td>Central</td>\n",
       "      <td>Science</td>\n",
       "      <td>52.00</td>\n",
       "      <td>Sci&amp;Tech</td>\n",
       "      <td>No</td>\n",
       "      <td>66.0</td>\n",
       "      <td>Mkt&amp;HR</td>\n",
       "      <td>59.43</td>\n",
       "      <td>Not Placed</td>\n",
       "      <td>0.0</td>\n",
       "    </tr>\n",
       "    <tr>\n",
       "      <th>4</th>\n",
       "      <td>5</td>\n",
       "      <td>M</td>\n",
       "      <td>85.80</td>\n",
       "      <td>Central</td>\n",
       "      <td>73.60</td>\n",
       "      <td>Central</td>\n",
       "      <td>Commerce</td>\n",
       "      <td>73.30</td>\n",
       "      <td>Comm&amp;Mgmt</td>\n",
       "      <td>No</td>\n",
       "      <td>96.8</td>\n",
       "      <td>Mkt&amp;Fin</td>\n",
       "      <td>55.50</td>\n",
       "      <td>Placed</td>\n",
       "      <td>425000.0</td>\n",
       "    </tr>\n",
       "    <tr>\n",
       "      <th>...</th>\n",
       "      <td>...</td>\n",
       "      <td>...</td>\n",
       "      <td>...</td>\n",
       "      <td>...</td>\n",
       "      <td>...</td>\n",
       "      <td>...</td>\n",
       "      <td>...</td>\n",
       "      <td>...</td>\n",
       "      <td>...</td>\n",
       "      <td>...</td>\n",
       "      <td>...</td>\n",
       "      <td>...</td>\n",
       "      <td>...</td>\n",
       "      <td>...</td>\n",
       "      <td>...</td>\n",
       "    </tr>\n",
       "    <tr>\n",
       "      <th>210</th>\n",
       "      <td>211</td>\n",
       "      <td>M</td>\n",
       "      <td>80.60</td>\n",
       "      <td>Others</td>\n",
       "      <td>82.00</td>\n",
       "      <td>Others</td>\n",
       "      <td>Commerce</td>\n",
       "      <td>77.60</td>\n",
       "      <td>Comm&amp;Mgmt</td>\n",
       "      <td>No</td>\n",
       "      <td>91.0</td>\n",
       "      <td>Mkt&amp;Fin</td>\n",
       "      <td>74.49</td>\n",
       "      <td>Placed</td>\n",
       "      <td>400000.0</td>\n",
       "    </tr>\n",
       "    <tr>\n",
       "      <th>211</th>\n",
       "      <td>212</td>\n",
       "      <td>M</td>\n",
       "      <td>58.00</td>\n",
       "      <td>Others</td>\n",
       "      <td>60.00</td>\n",
       "      <td>Others</td>\n",
       "      <td>Science</td>\n",
       "      <td>72.00</td>\n",
       "      <td>Sci&amp;Tech</td>\n",
       "      <td>No</td>\n",
       "      <td>74.0</td>\n",
       "      <td>Mkt&amp;Fin</td>\n",
       "      <td>53.62</td>\n",
       "      <td>Placed</td>\n",
       "      <td>275000.0</td>\n",
       "    </tr>\n",
       "    <tr>\n",
       "      <th>212</th>\n",
       "      <td>213</td>\n",
       "      <td>M</td>\n",
       "      <td>67.00</td>\n",
       "      <td>Others</td>\n",
       "      <td>67.00</td>\n",
       "      <td>Others</td>\n",
       "      <td>Commerce</td>\n",
       "      <td>73.00</td>\n",
       "      <td>Comm&amp;Mgmt</td>\n",
       "      <td>Yes</td>\n",
       "      <td>59.0</td>\n",
       "      <td>Mkt&amp;Fin</td>\n",
       "      <td>69.72</td>\n",
       "      <td>Placed</td>\n",
       "      <td>295000.0</td>\n",
       "    </tr>\n",
       "    <tr>\n",
       "      <th>213</th>\n",
       "      <td>214</td>\n",
       "      <td>F</td>\n",
       "      <td>74.00</td>\n",
       "      <td>Others</td>\n",
       "      <td>66.00</td>\n",
       "      <td>Others</td>\n",
       "      <td>Commerce</td>\n",
       "      <td>58.00</td>\n",
       "      <td>Comm&amp;Mgmt</td>\n",
       "      <td>No</td>\n",
       "      <td>70.0</td>\n",
       "      <td>Mkt&amp;HR</td>\n",
       "      <td>60.23</td>\n",
       "      <td>Placed</td>\n",
       "      <td>204000.0</td>\n",
       "    </tr>\n",
       "    <tr>\n",
       "      <th>214</th>\n",
       "      <td>215</td>\n",
       "      <td>M</td>\n",
       "      <td>62.00</td>\n",
       "      <td>Central</td>\n",
       "      <td>58.00</td>\n",
       "      <td>Others</td>\n",
       "      <td>Science</td>\n",
       "      <td>53.00</td>\n",
       "      <td>Comm&amp;Mgmt</td>\n",
       "      <td>No</td>\n",
       "      <td>89.0</td>\n",
       "      <td>Mkt&amp;HR</td>\n",
       "      <td>60.22</td>\n",
       "      <td>Not Placed</td>\n",
       "      <td>0.0</td>\n",
       "    </tr>\n",
       "  </tbody>\n",
       "</table>\n",
       "<p>215 rows × 15 columns</p>\n",
       "</div>"
      ],
      "text/plain": [
       "     sl_no gender  ssc_p    ssc_b  hsc_p    hsc_b     hsc_s  degree_p  \\\n",
       "0        1      M  67.00   Others  91.00   Others  Commerce     58.00   \n",
       "1        2      M  79.33  Central  78.33   Others   Science     77.48   \n",
       "2        3      M  65.00  Central  68.00  Central      Arts     64.00   \n",
       "3        4      M  56.00  Central  52.00  Central   Science     52.00   \n",
       "4        5      M  85.80  Central  73.60  Central  Commerce     73.30   \n",
       "..     ...    ...    ...      ...    ...      ...       ...       ...   \n",
       "210    211      M  80.60   Others  82.00   Others  Commerce     77.60   \n",
       "211    212      M  58.00   Others  60.00   Others   Science     72.00   \n",
       "212    213      M  67.00   Others  67.00   Others  Commerce     73.00   \n",
       "213    214      F  74.00   Others  66.00   Others  Commerce     58.00   \n",
       "214    215      M  62.00  Central  58.00   Others   Science     53.00   \n",
       "\n",
       "      degree_t workex  etest_p specialisation  mba_p      status    salary  \n",
       "0     Sci&Tech     No     55.0         Mkt&HR  58.80      Placed  270000.0  \n",
       "1     Sci&Tech    Yes     86.5        Mkt&Fin  66.28      Placed  200000.0  \n",
       "2    Comm&Mgmt     No     75.0        Mkt&Fin  57.80      Placed  250000.0  \n",
       "3     Sci&Tech     No     66.0         Mkt&HR  59.43  Not Placed       0.0  \n",
       "4    Comm&Mgmt     No     96.8        Mkt&Fin  55.50      Placed  425000.0  \n",
       "..         ...    ...      ...            ...    ...         ...       ...  \n",
       "210  Comm&Mgmt     No     91.0        Mkt&Fin  74.49      Placed  400000.0  \n",
       "211   Sci&Tech     No     74.0        Mkt&Fin  53.62      Placed  275000.0  \n",
       "212  Comm&Mgmt    Yes     59.0        Mkt&Fin  69.72      Placed  295000.0  \n",
       "213  Comm&Mgmt     No     70.0         Mkt&HR  60.23      Placed  204000.0  \n",
       "214  Comm&Mgmt     No     89.0         Mkt&HR  60.22  Not Placed       0.0  \n",
       "\n",
       "[215 rows x 15 columns]"
      ]
     },
     "execution_count": 4,
     "metadata": {},
     "output_type": "execute_result"
    }
   ],
   "source": [
    "#Replacing Null Value\n",
    "\n",
    "dataset.fillna(0,inplace = True)\n",
    "dataset\n",
    "\n",
    "#We are replacing the null values in the Salary column with 0, since this column directly depends on the job status (placed / Not Placed),\n",
    "#so if the person is not placed, then we will not get the salary"
   ]
  },
  {
   "cell_type": "markdown",
   "id": "3c64c8ad-7c0f-4422-be98-379ffdca2470",
   "metadata": {},
   "source": [
    "# 2) How many of them are not placed"
   ]
  },
  {
   "cell_type": "code",
   "execution_count": 5,
   "id": "a1c324f8-0e68-448e-ba6a-ed6f497392df",
   "metadata": {},
   "outputs": [
    {
     "name": "stdout",
     "output_type": "stream",
     "text": [
      "Out of 215 Students, '67' students were not placed and looking for the opportunity\n"
     ]
    }
   ],
   "source": [
    "place_cnt = dataset[dataset[\"status\"] != \"Placed\"].shape[0]\n",
    "total = dataset.shape[0]\n",
    "print(f\"Out of {total} Students, '{place_cnt}' students were not placed and looking for the opportunity\")"
   ]
  },
  {
   "cell_type": "markdown",
   "id": "03810c85-c08d-47c3-9662-8206346ada08",
   "metadata": {},
   "source": [
    "# 3) Find the reason for non placement from the dataset"
   ]
  },
  {
   "cell_type": "code",
   "execution_count": 6,
   "id": "affebef9-2609-415e-a7b9-c97749dd5bc8",
   "metadata": {},
   "outputs": [
    {
     "data": {
      "text/html": [
       "<div>\n",
       "<style scoped>\n",
       "    .dataframe tbody tr th:only-of-type {\n",
       "        vertical-align: middle;\n",
       "    }\n",
       "\n",
       "    .dataframe tbody tr th {\n",
       "        vertical-align: top;\n",
       "    }\n",
       "\n",
       "    .dataframe thead th {\n",
       "        text-align: right;\n",
       "    }\n",
       "</style>\n",
       "<table border=\"1\" class=\"dataframe\">\n",
       "  <thead>\n",
       "    <tr style=\"text-align: right;\">\n",
       "      <th></th>\n",
       "      <th>sl_no</th>\n",
       "      <th>gender</th>\n",
       "      <th>ssc_p</th>\n",
       "      <th>ssc_b</th>\n",
       "      <th>hsc_p</th>\n",
       "      <th>hsc_b</th>\n",
       "      <th>hsc_s</th>\n",
       "      <th>degree_p</th>\n",
       "      <th>degree_t</th>\n",
       "      <th>workex</th>\n",
       "      <th>etest_p</th>\n",
       "      <th>specialisation</th>\n",
       "      <th>mba_p</th>\n",
       "      <th>status</th>\n",
       "      <th>salary</th>\n",
       "    </tr>\n",
       "  </thead>\n",
       "  <tbody>\n",
       "    <tr>\n",
       "      <th>3</th>\n",
       "      <td>4</td>\n",
       "      <td>M</td>\n",
       "      <td>56.0</td>\n",
       "      <td>Central</td>\n",
       "      <td>52.0</td>\n",
       "      <td>Central</td>\n",
       "      <td>Science</td>\n",
       "      <td>52.00</td>\n",
       "      <td>Sci&amp;Tech</td>\n",
       "      <td>No</td>\n",
       "      <td>66.00</td>\n",
       "      <td>Mkt&amp;HR</td>\n",
       "      <td>59.43</td>\n",
       "      <td>Not Placed</td>\n",
       "      <td>0.0</td>\n",
       "    </tr>\n",
       "    <tr>\n",
       "      <th>5</th>\n",
       "      <td>6</td>\n",
       "      <td>M</td>\n",
       "      <td>55.0</td>\n",
       "      <td>Others</td>\n",
       "      <td>49.8</td>\n",
       "      <td>Others</td>\n",
       "      <td>Science</td>\n",
       "      <td>67.25</td>\n",
       "      <td>Sci&amp;Tech</td>\n",
       "      <td>Yes</td>\n",
       "      <td>55.00</td>\n",
       "      <td>Mkt&amp;Fin</td>\n",
       "      <td>51.58</td>\n",
       "      <td>Not Placed</td>\n",
       "      <td>0.0</td>\n",
       "    </tr>\n",
       "    <tr>\n",
       "      <th>6</th>\n",
       "      <td>7</td>\n",
       "      <td>F</td>\n",
       "      <td>46.0</td>\n",
       "      <td>Others</td>\n",
       "      <td>49.2</td>\n",
       "      <td>Others</td>\n",
       "      <td>Commerce</td>\n",
       "      <td>79.00</td>\n",
       "      <td>Comm&amp;Mgmt</td>\n",
       "      <td>No</td>\n",
       "      <td>74.28</td>\n",
       "      <td>Mkt&amp;Fin</td>\n",
       "      <td>53.29</td>\n",
       "      <td>Not Placed</td>\n",
       "      <td>0.0</td>\n",
       "    </tr>\n",
       "    <tr>\n",
       "      <th>9</th>\n",
       "      <td>10</td>\n",
       "      <td>M</td>\n",
       "      <td>58.0</td>\n",
       "      <td>Central</td>\n",
       "      <td>70.0</td>\n",
       "      <td>Central</td>\n",
       "      <td>Commerce</td>\n",
       "      <td>61.00</td>\n",
       "      <td>Comm&amp;Mgmt</td>\n",
       "      <td>No</td>\n",
       "      <td>54.00</td>\n",
       "      <td>Mkt&amp;Fin</td>\n",
       "      <td>52.21</td>\n",
       "      <td>Not Placed</td>\n",
       "      <td>0.0</td>\n",
       "    </tr>\n",
       "    <tr>\n",
       "      <th>12</th>\n",
       "      <td>13</td>\n",
       "      <td>F</td>\n",
       "      <td>47.0</td>\n",
       "      <td>Central</td>\n",
       "      <td>55.0</td>\n",
       "      <td>Others</td>\n",
       "      <td>Science</td>\n",
       "      <td>65.00</td>\n",
       "      <td>Comm&amp;Mgmt</td>\n",
       "      <td>No</td>\n",
       "      <td>62.00</td>\n",
       "      <td>Mkt&amp;HR</td>\n",
       "      <td>65.04</td>\n",
       "      <td>Not Placed</td>\n",
       "      <td>0.0</td>\n",
       "    </tr>\n",
       "    <tr>\n",
       "      <th>...</th>\n",
       "      <td>...</td>\n",
       "      <td>...</td>\n",
       "      <td>...</td>\n",
       "      <td>...</td>\n",
       "      <td>...</td>\n",
       "      <td>...</td>\n",
       "      <td>...</td>\n",
       "      <td>...</td>\n",
       "      <td>...</td>\n",
       "      <td>...</td>\n",
       "      <td>...</td>\n",
       "      <td>...</td>\n",
       "      <td>...</td>\n",
       "      <td>...</td>\n",
       "      <td>...</td>\n",
       "    </tr>\n",
       "    <tr>\n",
       "      <th>198</th>\n",
       "      <td>199</td>\n",
       "      <td>F</td>\n",
       "      <td>67.0</td>\n",
       "      <td>Central</td>\n",
       "      <td>70.0</td>\n",
       "      <td>Central</td>\n",
       "      <td>Commerce</td>\n",
       "      <td>65.00</td>\n",
       "      <td>Others</td>\n",
       "      <td>No</td>\n",
       "      <td>88.00</td>\n",
       "      <td>Mkt&amp;HR</td>\n",
       "      <td>71.96</td>\n",
       "      <td>Not Placed</td>\n",
       "      <td>0.0</td>\n",
       "    </tr>\n",
       "    <tr>\n",
       "      <th>201</th>\n",
       "      <td>202</td>\n",
       "      <td>M</td>\n",
       "      <td>54.2</td>\n",
       "      <td>Central</td>\n",
       "      <td>63.0</td>\n",
       "      <td>Others</td>\n",
       "      <td>Science</td>\n",
       "      <td>58.00</td>\n",
       "      <td>Comm&amp;Mgmt</td>\n",
       "      <td>No</td>\n",
       "      <td>79.00</td>\n",
       "      <td>Mkt&amp;HR</td>\n",
       "      <td>58.44</td>\n",
       "      <td>Not Placed</td>\n",
       "      <td>0.0</td>\n",
       "    </tr>\n",
       "    <tr>\n",
       "      <th>206</th>\n",
       "      <td>207</td>\n",
       "      <td>M</td>\n",
       "      <td>41.0</td>\n",
       "      <td>Central</td>\n",
       "      <td>42.0</td>\n",
       "      <td>Central</td>\n",
       "      <td>Science</td>\n",
       "      <td>60.00</td>\n",
       "      <td>Comm&amp;Mgmt</td>\n",
       "      <td>No</td>\n",
       "      <td>97.00</td>\n",
       "      <td>Mkt&amp;Fin</td>\n",
       "      <td>53.39</td>\n",
       "      <td>Not Placed</td>\n",
       "      <td>0.0</td>\n",
       "    </tr>\n",
       "    <tr>\n",
       "      <th>208</th>\n",
       "      <td>209</td>\n",
       "      <td>F</td>\n",
       "      <td>43.0</td>\n",
       "      <td>Central</td>\n",
       "      <td>60.0</td>\n",
       "      <td>Others</td>\n",
       "      <td>Science</td>\n",
       "      <td>65.00</td>\n",
       "      <td>Comm&amp;Mgmt</td>\n",
       "      <td>No</td>\n",
       "      <td>92.66</td>\n",
       "      <td>Mkt&amp;HR</td>\n",
       "      <td>62.92</td>\n",
       "      <td>Not Placed</td>\n",
       "      <td>0.0</td>\n",
       "    </tr>\n",
       "    <tr>\n",
       "      <th>214</th>\n",
       "      <td>215</td>\n",
       "      <td>M</td>\n",
       "      <td>62.0</td>\n",
       "      <td>Central</td>\n",
       "      <td>58.0</td>\n",
       "      <td>Others</td>\n",
       "      <td>Science</td>\n",
       "      <td>53.00</td>\n",
       "      <td>Comm&amp;Mgmt</td>\n",
       "      <td>No</td>\n",
       "      <td>89.00</td>\n",
       "      <td>Mkt&amp;HR</td>\n",
       "      <td>60.22</td>\n",
       "      <td>Not Placed</td>\n",
       "      <td>0.0</td>\n",
       "    </tr>\n",
       "  </tbody>\n",
       "</table>\n",
       "<p>67 rows × 15 columns</p>\n",
       "</div>"
      ],
      "text/plain": [
       "     sl_no gender  ssc_p    ssc_b  hsc_p    hsc_b     hsc_s  degree_p  \\\n",
       "3        4      M   56.0  Central   52.0  Central   Science     52.00   \n",
       "5        6      M   55.0   Others   49.8   Others   Science     67.25   \n",
       "6        7      F   46.0   Others   49.2   Others  Commerce     79.00   \n",
       "9       10      M   58.0  Central   70.0  Central  Commerce     61.00   \n",
       "12      13      F   47.0  Central   55.0   Others   Science     65.00   \n",
       "..     ...    ...    ...      ...    ...      ...       ...       ...   \n",
       "198    199      F   67.0  Central   70.0  Central  Commerce     65.00   \n",
       "201    202      M   54.2  Central   63.0   Others   Science     58.00   \n",
       "206    207      M   41.0  Central   42.0  Central   Science     60.00   \n",
       "208    209      F   43.0  Central   60.0   Others   Science     65.00   \n",
       "214    215      M   62.0  Central   58.0   Others   Science     53.00   \n",
       "\n",
       "      degree_t workex  etest_p specialisation  mba_p      status  salary  \n",
       "3     Sci&Tech     No    66.00         Mkt&HR  59.43  Not Placed     0.0  \n",
       "5     Sci&Tech    Yes    55.00        Mkt&Fin  51.58  Not Placed     0.0  \n",
       "6    Comm&Mgmt     No    74.28        Mkt&Fin  53.29  Not Placed     0.0  \n",
       "9    Comm&Mgmt     No    54.00        Mkt&Fin  52.21  Not Placed     0.0  \n",
       "12   Comm&Mgmt     No    62.00         Mkt&HR  65.04  Not Placed     0.0  \n",
       "..         ...    ...      ...            ...    ...         ...     ...  \n",
       "198     Others     No    88.00         Mkt&HR  71.96  Not Placed     0.0  \n",
       "201  Comm&Mgmt     No    79.00         Mkt&HR  58.44  Not Placed     0.0  \n",
       "206  Comm&Mgmt     No    97.00        Mkt&Fin  53.39  Not Placed     0.0  \n",
       "208  Comm&Mgmt     No    92.66         Mkt&HR  62.92  Not Placed     0.0  \n",
       "214  Comm&Mgmt     No    89.00         Mkt&HR  60.22  Not Placed     0.0  \n",
       "\n",
       "[67 rows x 15 columns]"
      ]
     },
     "execution_count": 6,
     "metadata": {},
     "output_type": "execute_result"
    }
   ],
   "source": [
    "dataset[dataset[\"status\"] != \"Placed\"]"
   ]
  },
  {
   "cell_type": "markdown",
   "id": "113d5301-21f2-4caf-b69e-43e708668ccc",
   "metadata": {},
   "source": [
    "# Using Testing"
   ]
  },
  {
   "cell_type": "code",
   "execution_count": 7,
   "id": "4b5e3fa8-604f-4b13-acc3-2a71f3082681",
   "metadata": {},
   "outputs": [
    {
     "name": "stdout",
     "output_type": "stream",
     "text": [
      "T-Test SSLC Score: t-statistic = 11.173294337111484, p-value = 4.115201043884403e-23\n",
      "T-Test HSC Score: t-statistic = 8.230746477379519, p-value = 1.849212756931434e-14\n",
      "T-Test Degree Score: t-statistic = 7.982429212839097, p-value = 8.807682138862608e-14\n",
      "T-Test MBA Score: t-statistic = 1.1259706009659818, p-value = 0.26144500197748627\n",
      "\n",
      "From the above, H0 Null hypothesis is rejected, since we got our pvalue < 0.05. So, we accept Alternate Hypothesis stating that \n",
      "there is a significant difference between columns when compared to placed and not placed students\n"
     ]
    }
   ],
   "source": [
    "from scipy.stats import ttest_ind\n",
    "\n",
    "# T-test for SSLC scores\n",
    "sslc_placed = dataset[dataset['status'] == 'Placed']['ssc_p']\n",
    "sslc_not_placed = dataset[dataset['status'] != 'Placed']['ssc_p']\n",
    "t_stat, p_val = ttest_ind(sslc_placed, sslc_not_placed)\n",
    "print(f'T-Test SSLC Score: t-statistic = {t_stat}, p-value = {p_val}')\n",
    "\n",
    "hsc_placed = dataset[dataset['status'] == 'Placed']['hsc_p']\n",
    "hsc_not_placed = dataset[dataset['status'] != 'Placed']['hsc_p']\n",
    "t_stat, p_val = ttest_ind(hsc_placed, hsc_not_placed)\n",
    "print(f'T-Test HSC Score: t-statistic = {t_stat}, p-value = {p_val}')\n",
    "\n",
    "degree_placed = dataset[dataset['status'] == 'Placed']['degree_p']\n",
    "degree_not_placed = dataset[dataset['status'] != 'Placed']['degree_p']\n",
    "t_stat, p_val = ttest_ind(degree_placed, degree_not_placed)\n",
    "print(f'T-Test Degree Score: t-statistic = {t_stat}, p-value = {p_val}')\n",
    "\n",
    "mba_placed = dataset[dataset['status'] == 'Placed']['mba_p']\n",
    "mba_not_placed = dataset[dataset['status'] != 'Placed']['mba_p']\n",
    "t_stat, p_val = ttest_ind(mba_placed, mba_not_placed)\n",
    "print(f'T-Test MBA Score: t-statistic = {t_stat}, p-value = {p_val}')\n",
    "\n",
    "print(\"\\nFrom the above, H0 Null hypothesis is rejected, since we got our pvalue < 0.05. So, we accept Alternate Hypothesis stating that \\nthere is a significant difference between columns when compared to placed and not placed students\")\n",
    "\n"
   ]
  },
  {
   "cell_type": "markdown",
   "id": "5cba6dbc-d973-4cfe-8954-9998d2a82bb5",
   "metadata": {},
   "source": [
    "# Using Chart"
   ]
  },
  {
   "cell_type": "code",
   "execution_count": 8,
   "id": "1f970a5a-f24e-4911-953e-9dff05722d02",
   "metadata": {},
   "outputs": [
    {
     "data": {
      "image/png": "[encoded data removed]",
      "text/plain": [
       "<Figure size 640x480 with 1 Axes>"
      ]
     },
     "metadata": {},
     "output_type": "display_data"
    },
    {
     "data": {
      "image/png": "[encoded data removed]",
      "text/plain": [
       "<Figure size 640x480 with 1 Axes>"
      ]
     },
     "metadata": {},
     "output_type": "display_data"
    },
    {
     "data": {
      "image/png": "[encoded data removed]",
      "text/plain": [
       "<Figure size 640x480 with 1 Axes>"
      ]
     },
     "metadata": {},
     "output_type": "display_data"
    },
    {
     "data": {
      "image/png": "[encoded data removed]",
      "text/plain": [
       "<Figure size 1000x600 with 1 Axes>"
      ]
     },
     "metadata": {},
     "output_type": "display_data"
    }
   ],
   "source": [
    "import seaborn as sns\n",
    "import matplotlib.pyplot as plt\n",
    "\n",
    "# Box plots to visualize the distribution of scores by placement status\n",
    "\n",
    "sns.boxplot(x='status', y='ssc_p', data=dataset)\n",
    "plt.title('SSLC Score vs Placement Status')\n",
    "plt.show()\n",
    "\n",
    "sns.boxplot(x='status', y='hsc_p', data=dataset)\n",
    "plt.title('HSC Score vs Placement Status')\n",
    "plt.show()\n",
    "\n",
    "\n",
    "sns.boxplot(x='status', y='degree_p', data=dataset)\n",
    "plt.title('Degree Score vs Placement Status')\n",
    "plt.show()\n",
    "\n",
    "plt.figure(figsize=(10, 6))\n",
    "sns.boxplot(x='status', y='mba_p', data=dataset)\n",
    "plt.title('MBA Score vs Placement Status')\n",
    "plt.show()\n"
   ]
  },
  {
   "cell_type": "code",
   "execution_count": 9,
   "id": "8200c3f9-1c60-4835-b854-7f118dfa6073",
   "metadata": {},
   "outputs": [
    {
     "name": "stdout",
     "output_type": "stream",
     "text": [
      "Conclusion : From the above Comparison, we can assume that those who scored below '65%' in SSLC, HSC and DEGREE were not placed.\n"
     ]
    }
   ],
   "source": [
    "print(\"Conclusion : From the above Comparison, we can assume that those who scored below '65%' in SSLC, HSC and DEGREE were not placed.\")"
   ]
  },
  {
   "cell_type": "markdown",
   "id": "5bf4a1fd-2762-4695-ba13-b6ef93d80308",
   "metadata": {},
   "source": [
    "# 4) What kind of relation between salary and mba_p"
   ]
  },
  {
   "cell_type": "code",
   "execution_count": 10,
   "id": "9d5b5982-a673-4c67-9bb0-8e33404b6344",
   "metadata": {},
   "outputs": [
    {
     "name": "stdout",
     "output_type": "stream",
     "text": [
      "          salary     mba_p\n",
      "salary  1.000000  0.139823\n",
      "mba_p   0.139823  1.000000\n",
      "\n",
      " salary and mba_p is weekly correlated with '0.14' correlation\n"
     ]
    }
   ],
   "source": [
    "print(dataset[[\"salary\",\"mba_p\"]].corr())\n",
    "print(\"\\n salary and mba_p is weekly correlated with '0.14' correlation\")"
   ]
  },
  {
   "cell_type": "markdown",
   "id": "6af9a8e4-f224-42a1-967e-469bb4a81916",
   "metadata": {},
   "source": [
    "# 5) Which specialization is getting minimum salary"
   ]
  },
  {
   "cell_type": "code",
   "execution_count": 11,
   "id": "18e54ac2-358f-4c68-9c5d-539b602bfb14",
   "metadata": {},
   "outputs": [
    {
     "name": "stdout",
     "output_type": "stream",
     "text": [
      "Specialisations like 'Mkt&HR, Mkt&Fin' getting minimum salary of 200000.0\n"
     ]
    }
   ],
   "source": [
    "min_sal_dataset = dataset[dataset[\"salary\"] == dataset[\"salary\"][dataset[\"status\"] == \"Placed\"].min()]\n",
    "salary = list(set(min_sal_dataset[\"salary\"]))[0]\n",
    "sepecialisation = ', '.join(list(set(min_sal_dataset[\"specialisation\"]))).replace(\"'\",\" \")\n",
    "print(f\"Specialisations like '{sepecialisation}' getting minimum salary of {salary}\")\n"
   ]
  },
  {
   "cell_type": "markdown",
   "id": "e152938e-3bd2-4bf7-8b3b-b9c52eb8af47",
   "metadata": {},
   "source": [
    "# 6) How many of them getting above 500000 salary"
   ]
  },
  {
   "cell_type": "code",
   "execution_count": 12,
   "id": "97a1b079-a0a9-4845-9cae-a8691984907b",
   "metadata": {},
   "outputs": [
    {
     "name": "stdout",
     "output_type": "stream",
     "text": [
      "Nearly 3 Members getting Salary greater than 5,00,000 Rupees\n"
     ]
    }
   ],
   "source": [
    "sal_5l = dataset[dataset[\"salary\"] > 500000].shape[0]\n",
    "\n",
    "print(f\"Nearly {sal_5l} Members getting Salary greater than 5,00,000 Rupees\")"
   ]
  },
  {
   "cell_type": "markdown",
   "id": "4ef2633c-365e-4406-b440-76bfbfa64957",
   "metadata": {},
   "source": [
    "# 7) Test the Analysis of Variance between etest_p and mba_p at signifance level 5%.(Make decision using Hypothesis Testing)\n"
   ]
  },
  {
   "cell_type": "code",
   "execution_count": 13,
   "id": "2735ed6f-5e1c-4189-b59c-2f47b7d5f715",
   "metadata": {},
   "outputs": [
    {
     "name": "stdout",
     "output_type": "stream",
     "text": [
      "F_onewayResult(statistic=98.64487057324706, pvalue=4.672547689133573e-21)\n",
      "\n",
      "H0 Null hypothesis is rejected, since we got p(4.672547689133573e-21) < 0.05. So, we accept Alternate Hypothesis stating that \n",
      "there is a significant difference between etest_p and mba_p\n"
     ]
    }
   ],
   "source": [
    "#Anavo Testing\n",
    "#One way Classification\n",
    "from scipy.stats import stats \n",
    "print(stats.f_oneway(dataset[\"etest_p\"],dataset[\"mba_p\"]))\n",
    "#print(stats.f_oneway(dataset.groupby('etest_p')['mba_p'].apply(list)))\n",
    "print(\"\\nH0 Null hypothesis is rejected, since we got p(4.672547689133573e-21) < 0.05. So, we accept Alternate Hypothesis stating that \\nthere is a significant difference between etest_p and mba_p\")\n"
   ]
  },
  {
   "cell_type": "markdown",
   "id": "07687563-026c-4757-8bc8-325cd1b99872",
   "metadata": {},
   "source": [
    "# 8) Test the similarity between the degree_t(Sci&Tech) and specialisation(Mkt&HR) with respect to salary at significance level of 5%.(Make decision using Hypothesis Testing)\n"
   ]
  },
  {
   "cell_type": "code",
   "execution_count": 14,
   "id": "63e54b87-20a6-4087-9e89-2889073f8ff6",
   "metadata": {},
   "outputs": [
    {
     "name": "stdout",
     "output_type": "stream",
     "text": [
      "TtestResult(statistic=2.692041243555374, pvalue=0.007897969943471179, df=152.0)\n",
      "\n",
      "H0 Null hypothesis is 'rejected', since we got p value (0.007) < 0.05. So, We accept alternated hypothesis, Which is stating that \n",
      "there is a significance difference between Sci&Tech and Mkt&HR with respect to salary\n"
     ]
    }
   ],
   "source": [
    "from scipy.stats import ttest_ind\n",
    "sciTech = dataset[dataset[\"degree_t\"] == \"Sci&Tech\"][\"salary\"]\n",
    "mktHr   = dataset[dataset[\"specialisation\"] == \"Mkt&HR\"][\"salary\"]\n",
    "print(ttest_ind(sciTech,mktHr))\n",
    "print(\"\\nH0 Null hypothesis is 'rejected', since we got p value (0.007) < 0.05. So, We accept alternated hypothesis, Which is stating that \\nthere is a significance difference between Sci&Tech and Mkt&HR with respect to salary\")"
   ]
  },
  {
   "cell_type": "markdown",
   "id": "40467349-b269-4bba-a3ba-6f2f1f0dd1e9",
   "metadata": {},
   "source": [
    "# 9) Convert the normal distribution to standard normal distribution for salary column"
   ]
  },
  {
   "cell_type": "code",
   "execution_count": 15,
   "id": "ef581bc3-80ea-46ba-b122-4e630df64b21",
   "metadata": {},
   "outputs": [
    {
     "data": {
      "text/plain": [
       "<Axes: xlabel='salary', ylabel='Density'>"
      ]
     },
     "execution_count": 15,
     "metadata": {},
     "output_type": "execute_result"
    },
    {
     "data": {
      "image/png": "[encoded data removed]",
      "text/plain": [
       "<Figure size 640x480 with 1 Axes>"
      ]
     },
     "metadata": {},
     "output_type": "display_data"
    }
   ],
   "source": [
    "import seaborn as sns\n",
    "sns.distplot(dataset[\"salary\"]) "
   ]
  },
  {
   "cell_type": "code",
   "execution_count": 16,
   "id": "f89345d3-871f-4a84-b649-392e0a422159",
   "metadata": {},
   "outputs": [
    {
     "data": {
      "text/plain": [
       "<Axes: ylabel='Density'>"
      ]
     },
     "execution_count": 16,
     "metadata": {},
     "output_type": "execute_result"
    },
    {
     "data": {
      "image/png": "[encoded data removed]",
      "text/plain": [
       "<Figure size 640x480 with 1 Axes>"
      ]
     },
     "metadata": {},
     "output_type": "display_data"
    }
   ],
   "source": [
    "#Converting to Standard Normalisation\n",
    "values = [value for value in dataset[\"salary\"]] \n",
    "sd_mean = dataset[\"salary\"].mean()\n",
    "sd_std = dataset[\"salary\"].std()\n",
    "z_score = []\n",
    "for j in values:    \n",
    "    z_score.append((j - sd_mean)/sd_std)    \n",
    "\n",
    "sns.distplot(z_score) "
   ]
  },
  {
   "cell_type": "markdown",
   "id": "91c558b8-c742-4ae8-8f85-9014ae4e7876",
   "metadata": {},
   "source": [
    "# 10) What is the probability Density Function of the salary range from 700000 to 900000?"
   ]
  },
  {
   "cell_type": "code",
   "execution_count": 17,
   "id": "ac41f3cb-d5d5-4a7e-8a9f-7c94c7053753",
   "metadata": {},
   "outputs": [
    {
     "data": {
      "text/plain": [
       "[3.1,\n",
       " 3.2111111111111112,\n",
       " 3.3222222222222224,\n",
       " 3.433333333333333,\n",
       " 3.5444444444444443,\n",
       " 3.6555555555555554,\n",
       " 3.7666666666666666,\n",
       " 3.8777777777777773,\n",
       " 3.9888888888888885,\n",
       " 4.1]"
      ]
     },
     "execution_count": 17,
     "metadata": {},
     "output_type": "execute_result"
    }
   ],
   "source": [
    "import numpy as np\n",
    "\n",
    "# Generate 10 equally spaced values between 3 and 4\n",
    "values = np.linspace(3.1, 4.1, num=10)\n",
    "list(values)\n"
   ]
  },
  {
   "cell_type": "code",
   "execution_count": 18,
   "id": "109408de-d8e3-40c2-a781-88032dbe2fa8",
   "metadata": {},
   "outputs": [
    {
     "name": "stdout",
     "output_type": "stream",
     "text": [
      "Mean : 198702.33, Standard Deviation : 154780.93\n",
      "The Area Between the range 700000 and 900000 : 0.98313847\n"
     ]
    },
    {
     "data": {
      "image/png": "[encoded data removed]",
      "text/plain": [
       "<Figure size 640x480 with 1 Axes>"
      ]
     },
     "metadata": {},
     "output_type": "display_data"
    }
   ],
   "source": [
    "#PDF\n",
    "#Converting to Standard Normalisation\n",
    "ax = sns.distplot(z_score,kde = True,kde_kws = {'color':'blue'},color = 'green')\n",
    " \n",
    "startRange = int((700000 - sd_mean)/sd_std)\n",
    "endRange = int((900000 - sd_mean)/sd_std)\n",
    "\n",
    "pyplot.axvline(startRange,color= \"red\")\n",
    "pyplot.axvline(endRange,color= \"red\")\n",
    "\n",
    "sample = dataset[\"salary\"]\n",
    "sample_mean = round(sample.mean(),2)\n",
    "sample_std = round(sample.std(),2) \n",
    "\n",
    "values = [value for value in list(np.linspace(3.1, 4.1, num=10))]\n",
    "dist = norm(startRange,endRange)\n",
    "probs = [dist.pdf(value) for value in values] \n",
    "\n",
    "print(f\"Mean : {sample_mean}, Standard Deviation : {sample_std}\\nThe Area Between the range {700000} and {900000} : { round(sum(probs), 8) }\")"
   ]
  },
  {
   "cell_type": "markdown",
   "id": "add2a04a-1036-404f-8604-8f26b55230ec",
   "metadata": {},
   "source": [
    "# 11) Test the similarity between the degree_t(Sci&Tech)with respect to etest_p and mba_p at significance level of 5%.(Make decision using Hypothesis Testing)\n"
   ]
  },
  {
   "cell_type": "code",
   "execution_count": 19,
   "id": "26f35e78",
   "metadata": {},
   "outputs": [
    {
     "name": "stdout",
     "output_type": "stream",
     "text": [
      "TtestResult(statistic=5.0049844583693615, pvalue=5.517920600505392e-06, df=58)\n",
      "\n",
      "H0 Null hypothesis is 'rejected', since we got p value (5.517920600505392e-06) < 0.05. So we accept alternate Hypothesis, Which is stating that \n",
      "there is a significance difference for Sci&Tech respect to etest_p and mba_p\n"
     ]
    }
   ],
   "source": [
    "from scipy.stats import ttest_rel\n",
    "etest_p  = dataset[dataset[\"degree_t\"] == \"Sci&Tech\"][\"etest_p\"]\n",
    "mba_p  = dataset[dataset[\"degree_t\"] == \"Sci&Tech\"][\"mba_p\"]\n",
    "print(ttest_rel(etest_p,mba_p))\n",
    "print(\"\\nH0 Null hypothesis is 'rejected', since we got p value (5.517920600505392e-06) < 0.05. So we accept alternate Hypothesis, Which is stating that \\nthere is a significance difference for Sci&Tech respect to etest_p and mba_p\")"
   ]
  },
  {
   "cell_type": "markdown",
   "id": "992548bd-dfc0-4e38-ba65-4470913f0ca8",
   "metadata": {},
   "source": [
    "# 12) Which parameter is highly correlated with salary"
   ]
  },
  {
   "cell_type": "code",
   "execution_count": 20,
   "id": "0e7a9d6b-e904-4cf1-ace2-3a08b8d9f538",
   "metadata": {},
   "outputs": [
    {
     "name": "stdout",
     "output_type": "stream",
     "text": [
      "ssc_p => 0.54\n",
      "hsc_p => 0.45\n",
      "etest_p => 0.19\n",
      "mba_p => 0.14\n",
      "\n",
      "'ssc_p' is highly correlated with salary with correlation of '0.54' compared to other parameters.\n"
     ]
    }
   ],
   "source": [
    "correlation = dataset[[\"salary\",\"ssc_p\",\"hsc_p\",\"etest_p\",\"mba_p\"]].corr()\n",
    "correlation_obj = {\n",
    "    \"column\" : \"\",\n",
    "    \"value\"  : 0\n",
    "}\n",
    "for column in dataset[[\"ssc_p\",\"hsc_p\",\"etest_p\",\"mba_p\"]]:\n",
    "  if(correlation[column][\"salary\"] > correlation_obj[\"value\"]):\n",
    "      correlation_obj[\"value\"] = round(correlation[column][\"salary\"],2)\n",
    "      correlation_obj[\"column\"] = column\n",
    "  print(f\"{column} => {round(correlation[column][\"salary\"],2)}\")\n",
    " \n",
    "print(f\"\\n'{correlation_obj['column']}' is highly correlated with salary with correlation of '{correlation_obj['value']}' compared to other parameters.\")"
   ]
  },
  {
   "cell_type": "markdown",
   "id": "4d1c7d4a-c261-4822-8653-d991ecf735ce",
   "metadata": {},
   "source": [
    "# 13) plot any useful graph and explain it"
   ]
  },
  {
   "cell_type": "code",
   "execution_count": 21,
   "id": "7b0f52dc-5c57-4923-acaa-e9e9aae456b1",
   "metadata": {},
   "outputs": [
    {
     "data": {
      "text/plain": [
       "<Axes: xlabel='salary', ylabel='Density'>"
      ]
     },
     "execution_count": 21,
     "metadata": {},
     "output_type": "execute_result"
    },
    {
     "data": {
      "image/png": "[encoded data removed]",
      "text/plain": [
       "<Figure size 640x480 with 1 Axes>"
      ]
     },
     "metadata": {},
     "output_type": "display_data"
    }
   ],
   "source": [
    "import seaborn as sns\n",
    "sns.distplot(dataset[\"salary\"]) "
   ]
  },
  {
   "cell_type": "code",
   "execution_count": 22,
   "id": "dc51cc2c-d3ac-4ba5-a3cd-18881211e0e9",
   "metadata": {},
   "outputs": [
    {
     "name": "stdout",
     "output_type": "stream",
     "text": [
      "Distplot is usefull to see the frequency distribution of the data through visual representation,(i.e) How the data is spread across the range.\n",
      "It also shows the KDE (Kernal Density Estimate) for data distribution\n"
     ]
    }
   ],
   "source": [
    "print(\"Distplot is usefull to see the frequency distribution of the data through visual representation,(i.e) How the data is spread across the range.\\nIt also shows the KDE (Kernal Density Estimate) for data distribution\")"
   ]
  }
 ],
 "metadata": {
  "kernelspec": {
   "display_name": "Python 3 (ipykernel)",
   "language": "python",
   "name": "python3"
  },
  "language_info": {
   "codemirror_mode": {
    "name": "ipython",
    "version": 3
   },
   "file_extension": ".py",
   "mimetype": "text/x-python",
   "name": "python",
   "nbconvert_exporter": "python",
   "pygments_lexer": "ipython3",
   "version": "3.12.7"
  }
 },
 "nbformat": 4,
 "nbformat_minor": 5
}
